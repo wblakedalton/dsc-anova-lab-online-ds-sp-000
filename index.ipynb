{
 "cells": [
  {
   "cell_type": "markdown",
   "metadata": {},
   "source": [
    "# ANOVA  - Lab\n",
    "\n",
    "## Introduction\n",
    "\n",
    "In this lab, you'll get some brief practice generating an ANOVA table (AOV) and interpreting its output. You'll also perform some investigations to compare the method to the t-tests you previously employed to conduct hypothesis testing.\n",
    "\n",
    "## Objectives\n",
    "\n",
    "In this lab you will: \n",
    "\n",
    "- Use ANOVA for testing multiple pairwise comparisons \n",
    "- Interpret results of an ANOVA and compare them to a t-test"
   ]
  },
  {
   "cell_type": "markdown",
   "metadata": {},
   "source": [
    "## Load the data\n",
    "\n",
    "Start by loading in the data stored in the file `'ToothGrowth.csv'`: "
   ]
  },
  {
   "cell_type": "code",
   "execution_count": 5,
   "metadata": {},
   "outputs": [
    {
     "data": {
      "text/html": [
       "<div>\n",
       "<style scoped>\n",
       "    .dataframe tbody tr th:only-of-type {\n",
       "        vertical-align: middle;\n",
       "    }\n",
       "\n",
       "    .dataframe tbody tr th {\n",
       "        vertical-align: top;\n",
       "    }\n",
       "\n",
       "    .dataframe thead th {\n",
       "        text-align: right;\n",
       "    }\n",
       "</style>\n",
       "<table border=\"1\" class=\"dataframe\">\n",
       "  <thead>\n",
       "    <tr style=\"text-align: right;\">\n",
       "      <th></th>\n",
       "      <th>len</th>\n",
       "      <th>supp</th>\n",
       "      <th>dose</th>\n",
       "    </tr>\n",
       "  </thead>\n",
       "  <tbody>\n",
       "    <tr>\n",
       "      <td>0</td>\n",
       "      <td>4.2</td>\n",
       "      <td>VC</td>\n",
       "      <td>0.5</td>\n",
       "    </tr>\n",
       "    <tr>\n",
       "      <td>1</td>\n",
       "      <td>11.5</td>\n",
       "      <td>VC</td>\n",
       "      <td>0.5</td>\n",
       "    </tr>\n",
       "    <tr>\n",
       "      <td>2</td>\n",
       "      <td>7.3</td>\n",
       "      <td>VC</td>\n",
       "      <td>0.5</td>\n",
       "    </tr>\n",
       "    <tr>\n",
       "      <td>3</td>\n",
       "      <td>5.8</td>\n",
       "      <td>VC</td>\n",
       "      <td>0.5</td>\n",
       "    </tr>\n",
       "    <tr>\n",
       "      <td>4</td>\n",
       "      <td>6.4</td>\n",
       "      <td>VC</td>\n",
       "      <td>0.5</td>\n",
       "    </tr>\n",
       "  </tbody>\n",
       "</table>\n",
       "</div>"
      ],
      "text/plain": [
       "    len supp  dose\n",
       "0   4.2   VC   0.5\n",
       "1  11.5   VC   0.5\n",
       "2   7.3   VC   0.5\n",
       "3   5.8   VC   0.5\n",
       "4   6.4   VC   0.5"
      ]
     },
     "execution_count": 5,
     "metadata": {},
     "output_type": "execute_result"
    }
   ],
   "source": [
    "# Your code here\n",
    "import pandas as pd\n",
    "import statsmodels.api as sm\n",
    "from statsmodels.formula.api import ols\n",
    "from scipy import stats\n",
    "df = pd.read_csv('ToothGrowth.csv')\n",
    "df.head()"
   ]
  },
  {
   "cell_type": "markdown",
   "metadata": {},
   "source": [
    "## Generate the ANOVA table\n",
    "\n",
    "Now generate an ANOVA table in order to analyze the influence of the medication and dosage:  "
   ]
  },
  {
   "cell_type": "code",
   "execution_count": 3,
   "metadata": {},
   "outputs": [
    {
     "name": "stdout",
     "output_type": "stream",
     "text": [
      "               sum_sq    df          F        PR(>F)\n",
      "C(supp)    205.350000   1.0  14.016638  4.292793e-04\n",
      "C(dose)   2426.434333   2.0  82.810935  1.871163e-17\n",
      "Residual   820.425000  56.0        NaN           NaN\n"
     ]
    }
   ],
   "source": [
    "# Your code here\n",
    "formula = 'len ~  C(supp) + C(dose)'\n",
    "lm = ols(formula, df).fit()\n",
    "table = sm.stats.anova_lm(lm, typ=2)\n",
    "print(table)"
   ]
  },
  {
   "cell_type": "markdown",
   "metadata": {},
   "source": [
    "## Interpret the output\n",
    "\n",
    "Make a brief comment regarding the statistics and the effect of supplement and dosage on tooth length: "
   ]
  },
  {
   "cell_type": "markdown",
   "metadata": {},
   "source": [
    "# Your comment here\n",
    "Both supp and dose PR(>F) values are less than 0.05, making both important, with dose having a greater effect"
   ]
  },
  {
   "cell_type": "markdown",
   "metadata": {},
   "source": [
    "## Compare to t-tests\n",
    "\n",
    "Now that you've had a chance to generate an ANOVA table, its interesting to compare the results to those from the t-tests you were working with earlier. With that, start by breaking the data into two samples: those given the OJ supplement, and those given the VC supplement. Afterward, you'll conduct a t-test to compare the tooth length of these two different samples: "
   ]
  },
  {
   "cell_type": "code",
   "execution_count": 4,
   "metadata": {},
   "outputs": [],
   "source": [
    "# Your code here\n",
    "oj = df[df.supp=='OJ']['len']\n",
    "vc = df[df.supp=='VC']['len']"
   ]
  },
  {
   "cell_type": "markdown",
   "metadata": {},
   "source": [
    "Now run a t-test between these two groups and print the associated two-sided p-value: "
   ]
  },
  {
   "cell_type": "code",
   "execution_count": 6,
   "metadata": {},
   "outputs": [
    {
     "data": {
      "text/plain": [
       "Ttest_indResult(statistic=1.91526826869527, pvalue=0.06063450788093387)"
      ]
     },
     "execution_count": 6,
     "metadata": {},
     "output_type": "execute_result"
    }
   ],
   "source": [
    "# Calculate the 2-sided p-value for a t-test comparing the two supplement groups\n",
    "stats.ttest_ind(oj, vc, equal_var=False)"
   ]
  },
  {
   "cell_type": "markdown",
   "metadata": {},
   "source": [
    "## A 2-Category ANOVA F-test is equivalent to a 2-tailed t-test!\n",
    "\n",
    "Now, recalculate an ANOVA F-test with only the supplement variable. An ANOVA F-test between two categories is the same as performing a 2-tailed t-test! So, the p-value in the table should be identical to your calculation above.\n",
    "\n",
    "> Note: there may be a small fractional difference (>0.001) between the two values due to a rounding error between implementations. "
   ]
  },
  {
   "cell_type": "code",
   "execution_count": 7,
   "metadata": {},
   "outputs": [
    {
     "name": "stdout",
     "output_type": "stream",
     "text": [
      "               sum_sq    df         F    PR(>F)\n",
      "C(supp)    205.350000   1.0  3.668253  0.060393\n",
      "Residual  3246.859333  58.0       NaN       NaN\n"
     ]
    }
   ],
   "source": [
    "# Your code here; conduct an ANOVA F-test of the oj and vc supplement groups.\n",
    "# Compare the p-value to that of the t-test above. \n",
    "# They should match (there may be a tiny fractional difference due to rounding errors in varying implementations)\n",
    "formula2 = 'len ~ C(supp)'\n",
    "lm2 = ols(formula2, df).fit()\n",
    "table2 = sm.stats.anova_lm(lm2, typ=2)\n",
    "print(table2)"
   ]
  },
  {
   "cell_type": "markdown",
   "metadata": {},
   "source": [
    "## Run multiple t-tests\n",
    "\n",
    "While the 2-category ANOVA test is identical to a 2-tailed t-test, performing multiple t-tests leads to the multiple comparisons problem. To investigate this, look at the various sample groups you could create from the 2 features: "
   ]
  },
  {
   "cell_type": "code",
   "execution_count": 8,
   "metadata": {},
   "outputs": [
    {
     "name": "stdout",
     "output_type": "stream",
     "text": [
      "('OJ', 0.5)\n",
      "('OJ', 1.0)\n",
      "('OJ', 2.0)\n",
      "('VC', 0.5)\n",
      "('VC', 1.0)\n",
      "('VC', 2.0)\n"
     ]
    }
   ],
   "source": [
    "for group in df.groupby(['supp', 'dose'])['len']:\n",
    "    group_name = group[0]\n",
    "    data = group[1]\n",
    "    print(group_name)"
   ]
  },
  {
   "cell_type": "markdown",
   "metadata": {},
   "source": [
    "While bad practice, examine the effects of calculating multiple t-tests with the various combinations of these. To do this, generate all combinations of the above groups. For each pairwise combination, calculate the p-value of a 2-sided t-test. Print the group combinations and their associated p-value for the two-sided t-test."
   ]
  },
  {
   "cell_type": "code",
   "execution_count": 10,
   "metadata": {},
   "outputs": [
    {
     "name": "stdout",
     "output_type": "stream",
     "text": [
      "(('OJ', 0.5), ('OJ', 1.0)) Ttest_indResult(statistic=-5.048634657337134, pvalue=8.784919055161479e-05)\n",
      "(('OJ', 0.5), ('OJ', 2.0)) Ttest_indResult(statistic=-7.81702129580037, pvalue=1.3237838776972294e-06)\n",
      "(('OJ', 0.5), ('VC', 0.5)) Ttest_indResult(statistic=3.1697327836708125, pvalue=0.006358606764096813)\n",
      "(('OJ', 0.5), ('VC', 1.0)) Ttest_indResult(statistic=-2.1863610837918044, pvalue=0.04601033257637553)\n",
      "(('OJ', 0.5), ('VC', 2.0)) Ttest_indResult(statistic=-6.232482137515355, pvalue=7.196253524006043e-06)\n",
      "(('OJ', 1.0), ('OJ', 2.0)) Ttest_indResult(statistic=-2.2477612380279295, pvalue=0.039195142046244004)\n",
      "(('OJ', 1.0), ('VC', 0.5)) Ttest_indResult(statistic=9.740112783652796, pvalue=3.6552067303259103e-08)\n",
      "(('OJ', 1.0), ('VC', 1.0)) Ttest_indResult(statistic=4.03276963371935, pvalue=0.001038375872299884)\n",
      "(('OJ', 1.0), ('VC', 2.0)) Ttest_indResult(statistic=-1.757441811684785, pvalue=0.09652612338267014)\n",
      "(('OJ', 2.0), ('VC', 0.5)) Ttest_indResult(statistic=14.966531872499512, pvalue=1.3621396478988818e-11)\n",
      "(('OJ', 2.0), ('VC', 1.0)) Ttest_indResult(statistic=8.032500849718916, pvalue=2.3610742020468435e-07)\n",
      "(('OJ', 2.0), ('VC', 2.0)) Ttest_indResult(statistic=-0.046136104909230764, pvalue=0.9638515887233756)\n",
      "(('VC', 0.5), ('VC', 1.0)) Ttest_indResult(statistic=-7.463430071764639, pvalue=6.811017702865016e-07)\n",
      "(('VC', 0.5), ('VC', 2.0)) Ttest_indResult(statistic=-10.387795220200884, pvalue=4.6815774144921145e-08)\n",
      "(('VC', 1.0), ('VC', 2.0)) Ttest_indResult(statistic=-5.469813691189401, pvalue=9.155603056638692e-05)\n"
     ]
    }
   ],
   "source": [
    "# Your code here; reuse your t-test code above to calculate the p-value for a 2-sided t-test\n",
    "# for all combinations of the supplement-dose groups listed above. \n",
    "# (Since there isn't a control group, compare each group to every other group.)\n",
    "from itertools import combinations\n",
    "groups = []\n",
    "for group in df.groupby(['supp', 'dose'])['len']:\n",
    "    groups.append(group[0])\n",
    "combin = combinations(groups, 2)\n",
    "for c in combin:\n",
    "    supp_1 = c[0][0]\n",
    "    dose_1 = c[0][1]\n",
    "    supp_2 = c[1][0]\n",
    "    dose_2 = c[1][1]\n",
    "    x1 = df[(df.supp==supp_1) & (df.dose==dose_1)]['len']\n",
    "    x2 = df[(df.supp==supp_2) & (df.dose==dose_2)]['len']\n",
    "    pval = stats.ttest_ind(x1, x2, equal_var=False)\n",
    "    print(c, pval)"
   ]
  },
  {
   "cell_type": "markdown",
   "metadata": {},
   "source": [
    "## Summary\n",
    "\n",
    "In this lesson, you implemented the ANOVA technique to generalize testing methods to multiple groups and factors."
   ]
  }
 ],
 "metadata": {
  "kernelspec": {
   "display_name": "Python 3",
   "language": "python",
   "name": "python3"
  },
  "language_info": {
   "codemirror_mode": {
    "name": "ipython",
    "version": 3
   },
   "file_extension": ".py",
   "mimetype": "text/x-python",
   "name": "python",
   "nbconvert_exporter": "python",
   "pygments_lexer": "ipython3",
   "version": "3.6.9"
  }
 },
 "nbformat": 4,
 "nbformat_minor": 2
}
